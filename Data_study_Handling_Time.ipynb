{
 "cells": [
  {
   "cell_type": "code",
   "execution_count": 195,
   "id": "c80011fe",
   "metadata": {
    "scrolled": true
   },
   "outputs": [],
   "source": [
    "import pandas as pd\n",
    "import numpy as np\n",
    "import matplotlib.pyplot as plt\n",
    "import seaborn as sns\n",
    "\n",
    "%matplotlib inline\n",
    "sns.set_style(\"darkgrid\")"
   ]
  },
  {
   "cell_type": "markdown",
   "id": "b9413cb3",
   "metadata": {},
   "source": [
    "### Reading studying the data "
   ]
  },
  {
   "cell_type": "code",
   "execution_count": 3,
   "id": "5124a31e",
   "metadata": {},
   "outputs": [],
   "source": [
    "df = pd.read_csv(\"Toppr_DS_Assignment_Data.csv\")"
   ]
  },
  {
   "cell_type": "code",
   "execution_count": 4,
   "id": "d1a65587",
   "metadata": {},
   "outputs": [
    {
     "data": {
      "text/html": [
       "<div>\n",
       "<style scoped>\n",
       "    .dataframe tbody tr th:only-of-type {\n",
       "        vertical-align: middle;\n",
       "    }\n",
       "\n",
       "    .dataframe tbody tr th {\n",
       "        vertical-align: top;\n",
       "    }\n",
       "\n",
       "    .dataframe thead th {\n",
       "        text-align: right;\n",
       "    }\n",
       "</style>\n",
       "<table border=\"1\" class=\"dataframe\">\n",
       "  <thead>\n",
       "    <tr style=\"text-align: right;\">\n",
       "      <th></th>\n",
       "      <th>session_id</th>\n",
       "      <th>subject_id</th>\n",
       "      <th>tutor_id</th>\n",
       "      <th>tutor_joined_on</th>\n",
       "      <th>exited_on</th>\n",
       "    </tr>\n",
       "  </thead>\n",
       "  <tbody>\n",
       "    <tr>\n",
       "      <th>0</th>\n",
       "      <td>58891832</td>\n",
       "      <td>1</td>\n",
       "      <td>25888582</td>\n",
       "      <td>2021-08-24T08:50:59.986</td>\n",
       "      <td>2021-08-24T09:00:38.411</td>\n",
       "    </tr>\n",
       "    <tr>\n",
       "      <th>1</th>\n",
       "      <td>58895182</td>\n",
       "      <td>1</td>\n",
       "      <td>42704098</td>\n",
       "      <td>2021-08-24T11:20:35.380</td>\n",
       "      <td>2021-08-24T11:35:00.323</td>\n",
       "    </tr>\n",
       "    <tr>\n",
       "      <th>2</th>\n",
       "      <td>58894350</td>\n",
       "      <td>3</td>\n",
       "      <td>19300924</td>\n",
       "      <td>2021-08-24T10:46:49.303</td>\n",
       "      <td>2021-08-24T10:52:34.587</td>\n",
       "    </tr>\n",
       "    <tr>\n",
       "      <th>3</th>\n",
       "      <td>58912438</td>\n",
       "      <td>2</td>\n",
       "      <td>25481986</td>\n",
       "      <td>2021-08-25T07:59:47.025</td>\n",
       "      <td>2021-08-25T08:08:21.243</td>\n",
       "    </tr>\n",
       "    <tr>\n",
       "      <th>4</th>\n",
       "      <td>58913020</td>\n",
       "      <td>1</td>\n",
       "      <td>34486126</td>\n",
       "      <td>2021-08-25T08:31:19.618</td>\n",
       "      <td>2021-08-25T08:33:49.924</td>\n",
       "    </tr>\n",
       "  </tbody>\n",
       "</table>\n",
       "</div>"
      ],
      "text/plain": [
       "   session_id  subject_id  tutor_id          tutor_joined_on  \\\n",
       "0    58891832           1  25888582  2021-08-24T08:50:59.986   \n",
       "1    58895182           1  42704098  2021-08-24T11:20:35.380   \n",
       "2    58894350           3  19300924  2021-08-24T10:46:49.303   \n",
       "3    58912438           2  25481986  2021-08-25T07:59:47.025   \n",
       "4    58913020           1  34486126  2021-08-25T08:31:19.618   \n",
       "\n",
       "                 exited_on  \n",
       "0  2021-08-24T09:00:38.411  \n",
       "1  2021-08-24T11:35:00.323  \n",
       "2  2021-08-24T10:52:34.587  \n",
       "3  2021-08-25T08:08:21.243  \n",
       "4  2021-08-25T08:33:49.924  "
      ]
     },
     "execution_count": 4,
     "metadata": {},
     "output_type": "execute_result"
    }
   ],
   "source": [
    "df.head()"
   ]
  },
  {
   "cell_type": "code",
   "execution_count": 5,
   "id": "4b562f8e",
   "metadata": {},
   "outputs": [
    {
     "name": "stdout",
     "output_type": "stream",
     "text": [
      "<class 'pandas.core.frame.DataFrame'>\n",
      "RangeIndex: 449013 entries, 0 to 449012\n",
      "Data columns (total 5 columns):\n",
      " #   Column           Non-Null Count   Dtype \n",
      "---  ------           --------------   ----- \n",
      " 0   session_id       449013 non-null  int64 \n",
      " 1   subject_id       449013 non-null  int64 \n",
      " 2   tutor_id         449013 non-null  int64 \n",
      " 3   tutor_joined_on  449013 non-null  object\n",
      " 4   exited_on        448189 non-null  object\n",
      "dtypes: int64(3), object(2)\n",
      "memory usage: 17.1+ MB\n"
     ]
    }
   ],
   "source": [
    "df.info()"
   ]
  },
  {
   "cell_type": "code",
   "execution_count": 6,
   "id": "5c2ce435",
   "metadata": {},
   "outputs": [
    {
     "data": {
      "text/plain": [
       "session_id           0\n",
       "subject_id           0\n",
       "tutor_id             0\n",
       "tutor_joined_on      0\n",
       "exited_on          824\n",
       "dtype: int64"
      ]
     },
     "execution_count": 6,
     "metadata": {},
     "output_type": "execute_result"
    }
   ],
   "source": [
    "df.isnull().sum()"
   ]
  },
  {
   "cell_type": "code",
   "execution_count": 9,
   "id": "2568ef98",
   "metadata": {},
   "outputs": [
    {
     "data": {
      "text/html": [
       "<div>\n",
       "<style scoped>\n",
       "    .dataframe tbody tr th:only-of-type {\n",
       "        vertical-align: middle;\n",
       "    }\n",
       "\n",
       "    .dataframe tbody tr th {\n",
       "        vertical-align: top;\n",
       "    }\n",
       "\n",
       "    .dataframe thead th {\n",
       "        text-align: right;\n",
       "    }\n",
       "</style>\n",
       "<table border=\"1\" class=\"dataframe\">\n",
       "  <thead>\n",
       "    <tr style=\"text-align: right;\">\n",
       "      <th></th>\n",
       "      <th>session_id</th>\n",
       "      <th>subject_id</th>\n",
       "      <th>tutor_id</th>\n",
       "      <th>tutor_joined_on</th>\n",
       "      <th>exited_on</th>\n",
       "    </tr>\n",
       "  </thead>\n",
       "  <tbody>\n",
       "    <tr>\n",
       "      <th>1596</th>\n",
       "      <td>58908492</td>\n",
       "      <td>3</td>\n",
       "      <td>38711562</td>\n",
       "      <td>2021-08-25T05:16:43.052</td>\n",
       "      <td>NaN</td>\n",
       "    </tr>\n",
       "    <tr>\n",
       "      <th>1632</th>\n",
       "      <td>58896538</td>\n",
       "      <td>3</td>\n",
       "      <td>9540792</td>\n",
       "      <td>2021-08-24T12:28:58.372</td>\n",
       "      <td>NaN</td>\n",
       "    </tr>\n",
       "    <tr>\n",
       "      <th>1747</th>\n",
       "      <td>58697446</td>\n",
       "      <td>2</td>\n",
       "      <td>43044224</td>\n",
       "      <td>2021-08-15T05:25:18.270</td>\n",
       "      <td>NaN</td>\n",
       "    </tr>\n",
       "    <tr>\n",
       "      <th>1969</th>\n",
       "      <td>57891650</td>\n",
       "      <td>1</td>\n",
       "      <td>27139594</td>\n",
       "      <td>2021-07-16T15:45:36.591</td>\n",
       "      <td>NaN</td>\n",
       "    </tr>\n",
       "    <tr>\n",
       "      <th>3265</th>\n",
       "      <td>57526640</td>\n",
       "      <td>1</td>\n",
       "      <td>4062730</td>\n",
       "      <td>2021-07-04T02:46:58.222</td>\n",
       "      <td>NaN</td>\n",
       "    </tr>\n",
       "    <tr>\n",
       "      <th>...</th>\n",
       "      <td>...</td>\n",
       "      <td>...</td>\n",
       "      <td>...</td>\n",
       "      <td>...</td>\n",
       "      <td>...</td>\n",
       "    </tr>\n",
       "    <tr>\n",
       "      <th>448008</th>\n",
       "      <td>58757104</td>\n",
       "      <td>3</td>\n",
       "      <td>33697186</td>\n",
       "      <td>2021-08-17T15:30:59.634</td>\n",
       "      <td>NaN</td>\n",
       "    </tr>\n",
       "    <tr>\n",
       "      <th>448346</th>\n",
       "      <td>58102510</td>\n",
       "      <td>1</td>\n",
       "      <td>4687658</td>\n",
       "      <td>2021-07-24T14:01:04.322</td>\n",
       "      <td>NaN</td>\n",
       "    </tr>\n",
       "    <tr>\n",
       "      <th>448391</th>\n",
       "      <td>58798414</td>\n",
       "      <td>1</td>\n",
       "      <td>43178418</td>\n",
       "      <td>2021-08-19T16:50:53.635</td>\n",
       "      <td>NaN</td>\n",
       "    </tr>\n",
       "    <tr>\n",
       "      <th>448697</th>\n",
       "      <td>58816480</td>\n",
       "      <td>3</td>\n",
       "      <td>41825146</td>\n",
       "      <td>2021-08-20T16:08:27.904</td>\n",
       "      <td>NaN</td>\n",
       "    </tr>\n",
       "    <tr>\n",
       "      <th>448730</th>\n",
       "      <td>59032132</td>\n",
       "      <td>1</td>\n",
       "      <td>23936790</td>\n",
       "      <td>2021-08-30T12:04:25.896</td>\n",
       "      <td>NaN</td>\n",
       "    </tr>\n",
       "  </tbody>\n",
       "</table>\n",
       "<p>824 rows × 5 columns</p>\n",
       "</div>"
      ],
      "text/plain": [
       "        session_id  subject_id  tutor_id          tutor_joined_on exited_on\n",
       "1596      58908492           3  38711562  2021-08-25T05:16:43.052       NaN\n",
       "1632      58896538           3   9540792  2021-08-24T12:28:58.372       NaN\n",
       "1747      58697446           2  43044224  2021-08-15T05:25:18.270       NaN\n",
       "1969      57891650           1  27139594  2021-07-16T15:45:36.591       NaN\n",
       "3265      57526640           1   4062730  2021-07-04T02:46:58.222       NaN\n",
       "...            ...         ...       ...                      ...       ...\n",
       "448008    58757104           3  33697186  2021-08-17T15:30:59.634       NaN\n",
       "448346    58102510           1   4687658  2021-07-24T14:01:04.322       NaN\n",
       "448391    58798414           1  43178418  2021-08-19T16:50:53.635       NaN\n",
       "448697    58816480           3  41825146  2021-08-20T16:08:27.904       NaN\n",
       "448730    59032132           1  23936790  2021-08-30T12:04:25.896       NaN\n",
       "\n",
       "[824 rows x 5 columns]"
      ]
     },
     "execution_count": 9,
     "metadata": {},
     "output_type": "execute_result"
    }
   ],
   "source": [
    "dfn = df[df.exited_on.isnull()]\n",
    "dfn"
   ]
  },
  {
   "cell_type": "code",
   "execution_count": 10,
   "id": "a24d70e7",
   "metadata": {},
   "outputs": [
    {
     "data": {
      "text/html": [
       "<div>\n",
       "<style scoped>\n",
       "    .dataframe tbody tr th:only-of-type {\n",
       "        vertical-align: middle;\n",
       "    }\n",
       "\n",
       "    .dataframe tbody tr th {\n",
       "        vertical-align: top;\n",
       "    }\n",
       "\n",
       "    .dataframe thead th {\n",
       "        text-align: right;\n",
       "    }\n",
       "</style>\n",
       "<table border=\"1\" class=\"dataframe\">\n",
       "  <thead>\n",
       "    <tr style=\"text-align: right;\">\n",
       "      <th></th>\n",
       "      <th>session_id</th>\n",
       "      <th>subject_id</th>\n",
       "      <th>tutor_id</th>\n",
       "    </tr>\n",
       "  </thead>\n",
       "  <tbody>\n",
       "    <tr>\n",
       "      <th>count</th>\n",
       "      <td>4.490130e+05</td>\n",
       "      <td>449013.000000</td>\n",
       "      <td>4.490130e+05</td>\n",
       "    </tr>\n",
       "    <tr>\n",
       "      <th>mean</th>\n",
       "      <td>5.829501e+07</td>\n",
       "      <td>2.326783</td>\n",
       "      <td>2.790091e+07</td>\n",
       "    </tr>\n",
       "    <tr>\n",
       "      <th>std</th>\n",
       "      <td>4.630696e+05</td>\n",
       "      <td>0.993714</td>\n",
       "      <td>1.122524e+07</td>\n",
       "    </tr>\n",
       "    <tr>\n",
       "      <th>min</th>\n",
       "      <td>5.745777e+07</td>\n",
       "      <td>1.000000</td>\n",
       "      <td>2.898800e+04</td>\n",
       "    </tr>\n",
       "    <tr>\n",
       "      <th>25%</th>\n",
       "      <td>5.789594e+07</td>\n",
       "      <td>1.000000</td>\n",
       "      <td>1.930092e+07</td>\n",
       "    </tr>\n",
       "    <tr>\n",
       "      <th>50%</th>\n",
       "      <td>5.831220e+07</td>\n",
       "      <td>3.000000</td>\n",
       "      <td>2.699527e+07</td>\n",
       "    </tr>\n",
       "    <tr>\n",
       "      <th>75%</th>\n",
       "      <td>5.869969e+07</td>\n",
       "      <td>3.000000</td>\n",
       "      <td>3.925151e+07</td>\n",
       "    </tr>\n",
       "    <tr>\n",
       "      <th>max</th>\n",
       "      <td>5.905844e+07</td>\n",
       "      <td>4.000000</td>\n",
       "      <td>4.588914e+07</td>\n",
       "    </tr>\n",
       "  </tbody>\n",
       "</table>\n",
       "</div>"
      ],
      "text/plain": [
       "         session_id     subject_id      tutor_id\n",
       "count  4.490130e+05  449013.000000  4.490130e+05\n",
       "mean   5.829501e+07       2.326783  2.790091e+07\n",
       "std    4.630696e+05       0.993714  1.122524e+07\n",
       "min    5.745777e+07       1.000000  2.898800e+04\n",
       "25%    5.789594e+07       1.000000  1.930092e+07\n",
       "50%    5.831220e+07       3.000000  2.699527e+07\n",
       "75%    5.869969e+07       3.000000  3.925151e+07\n",
       "max    5.905844e+07       4.000000  4.588914e+07"
      ]
     },
     "execution_count": 10,
     "metadata": {},
     "output_type": "execute_result"
    }
   ],
   "source": [
    "df.describe()"
   ]
  },
  {
   "cell_type": "code",
   "execution_count": 11,
   "id": "99330118",
   "metadata": {},
   "outputs": [
    {
     "data": {
      "text/plain": [
       "array([1, 3, 2, 4], dtype=int64)"
      ]
     },
     "execution_count": 11,
     "metadata": {},
     "output_type": "execute_result"
    }
   ],
   "source": [
    "df.subject_id.unique()"
   ]
  },
  {
   "cell_type": "code",
   "execution_count": 16,
   "id": "5ec37e1b",
   "metadata": {},
   "outputs": [
    {
     "data": {
      "text/plain": [
       "807"
      ]
     },
     "execution_count": 16,
     "metadata": {},
     "output_type": "execute_result"
    }
   ],
   "source": [
    "df.tutor_id.nunique()"
   ]
  },
  {
   "cell_type": "code",
   "execution_count": 13,
   "id": "5491ddbd",
   "metadata": {},
   "outputs": [
    {
     "data": {
      "text/plain": [
       "445348"
      ]
     },
     "execution_count": 13,
     "metadata": {},
     "output_type": "execute_result"
    }
   ],
   "source": [
    "df.session_id.nunique()"
   ]
  },
  {
   "cell_type": "code",
   "execution_count": 19,
   "id": "05f6dbac",
   "metadata": {},
   "outputs": [],
   "source": [
    "df_trunc = df[\"session_id\"]"
   ]
  },
  {
   "cell_type": "code",
   "execution_count": 20,
   "id": "8f6f3801",
   "metadata": {},
   "outputs": [
    {
     "data": {
      "text/plain": [
       "12231     58958694\n",
       "14365     57485574\n",
       "14450     58784130\n",
       "15468     58887412\n",
       "17779     57805974\n",
       "            ...   \n",
       "448588    58409200\n",
       "448697    58816480\n",
       "448730    59032132\n",
       "448763    58820882\n",
       "448940    58645698\n",
       "Name: session_id, Length: 3665, dtype: int64"
      ]
     },
     "execution_count": 20,
     "metadata": {},
     "output_type": "execute_result"
    }
   ],
   "source": [
    "df_trunc[df_trunc.duplicated()]"
   ]
  },
  {
   "cell_type": "code",
   "execution_count": 21,
   "id": "79f147f0",
   "metadata": {},
   "outputs": [
    {
     "data": {
      "text/html": [
       "<div>\n",
       "<style scoped>\n",
       "    .dataframe tbody tr th:only-of-type {\n",
       "        vertical-align: middle;\n",
       "    }\n",
       "\n",
       "    .dataframe tbody tr th {\n",
       "        vertical-align: top;\n",
       "    }\n",
       "\n",
       "    .dataframe thead th {\n",
       "        text-align: right;\n",
       "    }\n",
       "</style>\n",
       "<table border=\"1\" class=\"dataframe\">\n",
       "  <thead>\n",
       "    <tr style=\"text-align: right;\">\n",
       "      <th></th>\n",
       "      <th>session_id</th>\n",
       "      <th>subject_id</th>\n",
       "      <th>tutor_id</th>\n",
       "      <th>tutor_joined_on</th>\n",
       "      <th>exited_on</th>\n",
       "    </tr>\n",
       "  </thead>\n",
       "  <tbody>\n",
       "    <tr>\n",
       "      <th>8691</th>\n",
       "      <td>58958694</td>\n",
       "      <td>4</td>\n",
       "      <td>41640784</td>\n",
       "      <td>2021-08-27T12:39:44.664</td>\n",
       "      <td>NaN</td>\n",
       "    </tr>\n",
       "    <tr>\n",
       "      <th>12231</th>\n",
       "      <td>58958694</td>\n",
       "      <td>4</td>\n",
       "      <td>43514944</td>\n",
       "      <td>2021-08-27T12:40:25.609</td>\n",
       "      <td>2021-08-27T12:41:59.647</td>\n",
       "    </tr>\n",
       "    <tr>\n",
       "      <th>119146</th>\n",
       "      <td>58958694</td>\n",
       "      <td>4</td>\n",
       "      <td>41640784</td>\n",
       "      <td>2021-08-27T12:39:47.683</td>\n",
       "      <td>NaN</td>\n",
       "    </tr>\n",
       "    <tr>\n",
       "      <th>140497</th>\n",
       "      <td>58958694</td>\n",
       "      <td>4</td>\n",
       "      <td>27758016</td>\n",
       "      <td>2021-08-27T12:39:44.049</td>\n",
       "      <td>NaN</td>\n",
       "    </tr>\n",
       "    <tr>\n",
       "      <th>249731</th>\n",
       "      <td>58958694</td>\n",
       "      <td>4</td>\n",
       "      <td>29601284</td>\n",
       "      <td>2021-08-27T12:39:46.041</td>\n",
       "      <td>NaN</td>\n",
       "    </tr>\n",
       "    <tr>\n",
       "      <th>366524</th>\n",
       "      <td>58958694</td>\n",
       "      <td>4</td>\n",
       "      <td>33841132</td>\n",
       "      <td>2021-08-27T12:39:43.525</td>\n",
       "      <td>NaN</td>\n",
       "    </tr>\n",
       "    <tr>\n",
       "      <th>396407</th>\n",
       "      <td>58958694</td>\n",
       "      <td>4</td>\n",
       "      <td>9139136</td>\n",
       "      <td>2021-08-27T12:39:46.245</td>\n",
       "      <td>NaN</td>\n",
       "    </tr>\n",
       "    <tr>\n",
       "      <th>407560</th>\n",
       "      <td>58958694</td>\n",
       "      <td>4</td>\n",
       "      <td>4146346</td>\n",
       "      <td>2021-08-27T12:39:45.514</td>\n",
       "      <td>NaN</td>\n",
       "    </tr>\n",
       "  </tbody>\n",
       "</table>\n",
       "</div>"
      ],
      "text/plain": [
       "        session_id  subject_id  tutor_id          tutor_joined_on  \\\n",
       "8691      58958694           4  41640784  2021-08-27T12:39:44.664   \n",
       "12231     58958694           4  43514944  2021-08-27T12:40:25.609   \n",
       "119146    58958694           4  41640784  2021-08-27T12:39:47.683   \n",
       "140497    58958694           4  27758016  2021-08-27T12:39:44.049   \n",
       "249731    58958694           4  29601284  2021-08-27T12:39:46.041   \n",
       "366524    58958694           4  33841132  2021-08-27T12:39:43.525   \n",
       "396407    58958694           4   9139136  2021-08-27T12:39:46.245   \n",
       "407560    58958694           4   4146346  2021-08-27T12:39:45.514   \n",
       "\n",
       "                      exited_on  \n",
       "8691                        NaN  \n",
       "12231   2021-08-27T12:41:59.647  \n",
       "119146                      NaN  \n",
       "140497                      NaN  \n",
       "249731                      NaN  \n",
       "366524                      NaN  \n",
       "396407                      NaN  \n",
       "407560                      NaN  "
      ]
     },
     "execution_count": 21,
     "metadata": {},
     "output_type": "execute_result"
    }
   ],
   "source": [
    "df[df[\"session_id\"]==58958694]"
   ]
  },
  {
   "cell_type": "code",
   "execution_count": 22,
   "id": "c795717f",
   "metadata": {
    "scrolled": true
   },
   "outputs": [
    {
     "data": {
      "text/html": [
       "<div>\n",
       "<style scoped>\n",
       "    .dataframe tbody tr th:only-of-type {\n",
       "        vertical-align: middle;\n",
       "    }\n",
       "\n",
       "    .dataframe tbody tr th {\n",
       "        vertical-align: top;\n",
       "    }\n",
       "\n",
       "    .dataframe thead th {\n",
       "        text-align: right;\n",
       "    }\n",
       "</style>\n",
       "<table border=\"1\" class=\"dataframe\">\n",
       "  <thead>\n",
       "    <tr style=\"text-align: right;\">\n",
       "      <th></th>\n",
       "      <th>session_id</th>\n",
       "      <th>subject_id</th>\n",
       "      <th>tutor_id</th>\n",
       "      <th>tutor_joined_on</th>\n",
       "      <th>exited_on</th>\n",
       "    </tr>\n",
       "  </thead>\n",
       "  <tbody>\n",
       "    <tr>\n",
       "      <th>2005</th>\n",
       "      <td>57485574</td>\n",
       "      <td>2</td>\n",
       "      <td>17331878</td>\n",
       "      <td>2021-07-02T05:33:42.605</td>\n",
       "      <td>2021-07-02T05:53:15.654</td>\n",
       "    </tr>\n",
       "    <tr>\n",
       "      <th>14365</th>\n",
       "      <td>57485574</td>\n",
       "      <td>2</td>\n",
       "      <td>20596344</td>\n",
       "      <td>2021-07-02T05:53:32.541</td>\n",
       "      <td>2021-07-02T05:54:48.253</td>\n",
       "    </tr>\n",
       "  </tbody>\n",
       "</table>\n",
       "</div>"
      ],
      "text/plain": [
       "       session_id  subject_id  tutor_id          tutor_joined_on  \\\n",
       "2005     57485574           2  17331878  2021-07-02T05:33:42.605   \n",
       "14365    57485574           2  20596344  2021-07-02T05:53:32.541   \n",
       "\n",
       "                     exited_on  \n",
       "2005   2021-07-02T05:53:15.654  \n",
       "14365  2021-07-02T05:54:48.253  "
      ]
     },
     "execution_count": 22,
     "metadata": {},
     "output_type": "execute_result"
    }
   ],
   "source": [
    "df[df[\"session_id\"]==57485574]"
   ]
  },
  {
   "cell_type": "code",
   "execution_count": 23,
   "id": "bb2659ee",
   "metadata": {},
   "outputs": [
    {
     "data": {
      "text/html": [
       "<div>\n",
       "<style scoped>\n",
       "    .dataframe tbody tr th:only-of-type {\n",
       "        vertical-align: middle;\n",
       "    }\n",
       "\n",
       "    .dataframe tbody tr th {\n",
       "        vertical-align: top;\n",
       "    }\n",
       "\n",
       "    .dataframe thead th {\n",
       "        text-align: right;\n",
       "    }\n",
       "</style>\n",
       "<table border=\"1\" class=\"dataframe\">\n",
       "  <thead>\n",
       "    <tr style=\"text-align: right;\">\n",
       "      <th></th>\n",
       "      <th>session_id</th>\n",
       "      <th>subject_id</th>\n",
       "      <th>tutor_id</th>\n",
       "      <th>tutor_joined_on</th>\n",
       "      <th>exited_on</th>\n",
       "    </tr>\n",
       "  </thead>\n",
       "  <tbody>\n",
       "    <tr>\n",
       "      <th>15467</th>\n",
       "      <td>58887412</td>\n",
       "      <td>3</td>\n",
       "      <td>17860326</td>\n",
       "      <td>2021-08-24T05:34:15.497</td>\n",
       "      <td>NaN</td>\n",
       "    </tr>\n",
       "    <tr>\n",
       "      <th>15468</th>\n",
       "      <td>58887412</td>\n",
       "      <td>3</td>\n",
       "      <td>36592702</td>\n",
       "      <td>2021-08-24T05:34:24.987</td>\n",
       "      <td>NaN</td>\n",
       "    </tr>\n",
       "    <tr>\n",
       "      <th>69702</th>\n",
       "      <td>58887412</td>\n",
       "      <td>3</td>\n",
       "      <td>17860326</td>\n",
       "      <td>2021-08-24T05:34:19.554</td>\n",
       "      <td>NaN</td>\n",
       "    </tr>\n",
       "    <tr>\n",
       "      <th>162147</th>\n",
       "      <td>58887412</td>\n",
       "      <td>3</td>\n",
       "      <td>36592702</td>\n",
       "      <td>2021-08-24T05:34:28.049</td>\n",
       "      <td>2021-08-24T05:56:00.310</td>\n",
       "    </tr>\n",
       "    <tr>\n",
       "      <th>171908</th>\n",
       "      <td>58887412</td>\n",
       "      <td>3</td>\n",
       "      <td>17860326</td>\n",
       "      <td>2021-08-24T05:34:22.488</td>\n",
       "      <td>NaN</td>\n",
       "    </tr>\n",
       "    <tr>\n",
       "      <th>299347</th>\n",
       "      <td>58887412</td>\n",
       "      <td>3</td>\n",
       "      <td>17860326</td>\n",
       "      <td>2021-08-24T05:34:17.071</td>\n",
       "      <td>NaN</td>\n",
       "    </tr>\n",
       "    <tr>\n",
       "      <th>315089</th>\n",
       "      <td>58887412</td>\n",
       "      <td>3</td>\n",
       "      <td>36592702</td>\n",
       "      <td>2021-08-24T05:34:26.408</td>\n",
       "      <td>NaN</td>\n",
       "    </tr>\n",
       "    <tr>\n",
       "      <th>324767</th>\n",
       "      <td>58887412</td>\n",
       "      <td>3</td>\n",
       "      <td>23468322</td>\n",
       "      <td>2021-08-24T05:34:21.261</td>\n",
       "      <td>NaN</td>\n",
       "    </tr>\n",
       "    <tr>\n",
       "      <th>360099</th>\n",
       "      <td>58887412</td>\n",
       "      <td>3</td>\n",
       "      <td>17860326</td>\n",
       "      <td>2021-08-24T05:34:26.845</td>\n",
       "      <td>NaN</td>\n",
       "    </tr>\n",
       "    <tr>\n",
       "      <th>425474</th>\n",
       "      <td>58887412</td>\n",
       "      <td>3</td>\n",
       "      <td>8915448</td>\n",
       "      <td>2021-08-24T05:34:27.299</td>\n",
       "      <td>NaN</td>\n",
       "    </tr>\n",
       "    <tr>\n",
       "      <th>425475</th>\n",
       "      <td>58887412</td>\n",
       "      <td>3</td>\n",
       "      <td>36592702</td>\n",
       "      <td>2021-08-24T05:34:23.929</td>\n",
       "      <td>NaN</td>\n",
       "    </tr>\n",
       "  </tbody>\n",
       "</table>\n",
       "</div>"
      ],
      "text/plain": [
       "        session_id  subject_id  tutor_id          tutor_joined_on  \\\n",
       "15467     58887412           3  17860326  2021-08-24T05:34:15.497   \n",
       "15468     58887412           3  36592702  2021-08-24T05:34:24.987   \n",
       "69702     58887412           3  17860326  2021-08-24T05:34:19.554   \n",
       "162147    58887412           3  36592702  2021-08-24T05:34:28.049   \n",
       "171908    58887412           3  17860326  2021-08-24T05:34:22.488   \n",
       "299347    58887412           3  17860326  2021-08-24T05:34:17.071   \n",
       "315089    58887412           3  36592702  2021-08-24T05:34:26.408   \n",
       "324767    58887412           3  23468322  2021-08-24T05:34:21.261   \n",
       "360099    58887412           3  17860326  2021-08-24T05:34:26.845   \n",
       "425474    58887412           3   8915448  2021-08-24T05:34:27.299   \n",
       "425475    58887412           3  36592702  2021-08-24T05:34:23.929   \n",
       "\n",
       "                      exited_on  \n",
       "15467                       NaN  \n",
       "15468                       NaN  \n",
       "69702                       NaN  \n",
       "162147  2021-08-24T05:56:00.310  \n",
       "171908                      NaN  \n",
       "299347                      NaN  \n",
       "315089                      NaN  \n",
       "324767                      NaN  \n",
       "360099                      NaN  \n",
       "425474                      NaN  \n",
       "425475                      NaN  "
      ]
     },
     "execution_count": 23,
     "metadata": {},
     "output_type": "execute_result"
    }
   ],
   "source": [
    "df[df[\"session_id\"]==58887412]"
   ]
  },
  {
   "cell_type": "markdown",
   "id": "b1c68478",
   "metadata": {},
   "source": [
    "**A possible logical explanition behind the missing values seems to be the sessions that were initiated but were not connected due to some techical glitch, hence would be dropping these.**"
   ]
  },
  {
   "cell_type": "code",
   "execution_count": 24,
   "id": "2b14ac88",
   "metadata": {},
   "outputs": [],
   "source": [
    "df1 = df.dropna(axis='rows')"
   ]
  },
  {
   "cell_type": "code",
   "execution_count": 25,
   "id": "adb76580",
   "metadata": {},
   "outputs": [
    {
     "name": "stdout",
     "output_type": "stream",
     "text": [
      "<class 'pandas.core.frame.DataFrame'>\n",
      "Int64Index: 448189 entries, 0 to 449012\n",
      "Data columns (total 5 columns):\n",
      " #   Column           Non-Null Count   Dtype \n",
      "---  ------           --------------   ----- \n",
      " 0   session_id       448189 non-null  int64 \n",
      " 1   subject_id       448189 non-null  int64 \n",
      " 2   tutor_id         448189 non-null  int64 \n",
      " 3   tutor_joined_on  448189 non-null  object\n",
      " 4   exited_on        448189 non-null  object\n",
      "dtypes: int64(3), object(2)\n",
      "memory usage: 20.5+ MB\n"
     ]
    }
   ],
   "source": [
    "df1.info()"
   ]
  },
  {
   "cell_type": "code",
   "execution_count": 30,
   "id": "30726cd9",
   "metadata": {
    "scrolled": true
   },
   "outputs": [
    {
     "name": "stderr",
     "output_type": "stream",
     "text": [
      "D:\\Anaconda3\\lib\\site-packages\\pandas\\core\\generic.py:5494: SettingWithCopyWarning: \n",
      "A value is trying to be set on a copy of a slice from a DataFrame.\n",
      "Try using .loc[row_indexer,col_indexer] = value instead\n",
      "\n",
      "See the caveats in the documentation: https://pandas.pydata.org/pandas-docs/stable/user_guide/indexing.html#returning-a-view-versus-a-copy\n",
      "  self[name] = value\n"
     ]
    }
   ],
   "source": [
    "df1.tutor_joined_on\t = pd.to_datetime(df1.tutor_joined_on)"
   ]
  },
  {
   "cell_type": "code",
   "execution_count": 31,
   "id": "524c05b6",
   "metadata": {},
   "outputs": [],
   "source": [
    "df1.exited_on\t = pd.to_datetime(df1.exited_on)"
   ]
  },
  {
   "cell_type": "code",
   "execution_count": 35,
   "id": "518fd646",
   "metadata": {},
   "outputs": [
    {
     "name": "stdout",
     "output_type": "stream",
     "text": [
      "<class 'pandas.core.frame.DataFrame'>\n",
      "Int64Index: 448189 entries, 0 to 449012\n",
      "Data columns (total 5 columns):\n",
      " #   Column           Non-Null Count   Dtype         \n",
      "---  ------           --------------   -----         \n",
      " 0   session_id       448189 non-null  int64         \n",
      " 1   subject_id       448189 non-null  int64         \n",
      " 2   tutor_id         448189 non-null  int64         \n",
      " 3   tutor_joined_on  448189 non-null  datetime64[ns]\n",
      " 4   exited_on        448189 non-null  datetime64[ns]\n",
      "dtypes: datetime64[ns](2), int64(3)\n",
      "memory usage: 20.5 MB\n"
     ]
    }
   ],
   "source": [
    "df1.info()"
   ]
  },
  {
   "cell_type": "code",
   "execution_count": 32,
   "id": "170144b6",
   "metadata": {},
   "outputs": [],
   "source": [
    "df_trunc = df1[\"session_id\"]"
   ]
  },
  {
   "cell_type": "code",
   "execution_count": 33,
   "id": "cc5299c2",
   "metadata": {},
   "outputs": [
    {
     "data": {
      "text/html": [
       "<div>\n",
       "<style scoped>\n",
       "    .dataframe tbody tr th:only-of-type {\n",
       "        vertical-align: middle;\n",
       "    }\n",
       "\n",
       "    .dataframe tbody tr th {\n",
       "        vertical-align: top;\n",
       "    }\n",
       "\n",
       "    .dataframe thead th {\n",
       "        text-align: right;\n",
       "    }\n",
       "</style>\n",
       "<table border=\"1\" class=\"dataframe\">\n",
       "  <thead>\n",
       "    <tr style=\"text-align: right;\">\n",
       "      <th></th>\n",
       "      <th>session_id</th>\n",
       "      <th>subject_id</th>\n",
       "      <th>tutor_id</th>\n",
       "      <th>tutor_joined_on</th>\n",
       "      <th>exited_on</th>\n",
       "    </tr>\n",
       "  </thead>\n",
       "  <tbody>\n",
       "    <tr>\n",
       "      <th>14365</th>\n",
       "      <td>57485574</td>\n",
       "      <td>2</td>\n",
       "      <td>20596344</td>\n",
       "      <td>2021-07-02 05:53:32.541</td>\n",
       "      <td>2021-07-02 05:54:48.253</td>\n",
       "    </tr>\n",
       "    <tr>\n",
       "      <th>17779</th>\n",
       "      <td>57805974</td>\n",
       "      <td>2</td>\n",
       "      <td>20596344</td>\n",
       "      <td>2021-07-13 12:35:26.506</td>\n",
       "      <td>2021-07-13 12:39:48.498</td>\n",
       "    </tr>\n",
       "    <tr>\n",
       "      <th>18765</th>\n",
       "      <td>57621256</td>\n",
       "      <td>2</td>\n",
       "      <td>10992006</td>\n",
       "      <td>2021-07-07 10:03:32.745</td>\n",
       "      <td>2021-07-07 10:23:25.013</td>\n",
       "    </tr>\n",
       "    <tr>\n",
       "      <th>19273</th>\n",
       "      <td>58941868</td>\n",
       "      <td>1</td>\n",
       "      <td>11039266</td>\n",
       "      <td>2021-08-26 16:58:43.915</td>\n",
       "      <td>2021-08-26 17:02:23.206</td>\n",
       "    </tr>\n",
       "    <tr>\n",
       "      <th>19842</th>\n",
       "      <td>57950212</td>\n",
       "      <td>3</td>\n",
       "      <td>36309964</td>\n",
       "      <td>2021-07-18 11:18:01.561</td>\n",
       "      <td>2021-07-18 11:28:48.833</td>\n",
       "    </tr>\n",
       "    <tr>\n",
       "      <th>...</th>\n",
       "      <td>...</td>\n",
       "      <td>...</td>\n",
       "      <td>...</td>\n",
       "      <td>...</td>\n",
       "      <td>...</td>\n",
       "    </tr>\n",
       "    <tr>\n",
       "      <th>448473</th>\n",
       "      <td>58603760</td>\n",
       "      <td>3</td>\n",
       "      <td>38720316</td>\n",
       "      <td>2021-08-11 04:02:22.012</td>\n",
       "      <td>2021-08-11 04:06:05.546</td>\n",
       "    </tr>\n",
       "    <tr>\n",
       "      <th>448504</th>\n",
       "      <td>58318592</td>\n",
       "      <td>2</td>\n",
       "      <td>43811614</td>\n",
       "      <td>2021-07-31 13:01:54.474</td>\n",
       "      <td>2021-07-31 13:07:46.038</td>\n",
       "    </tr>\n",
       "    <tr>\n",
       "      <th>448588</th>\n",
       "      <td>58409200</td>\n",
       "      <td>3</td>\n",
       "      <td>43245556</td>\n",
       "      <td>2021-08-03 18:59:53.951</td>\n",
       "      <td>2021-08-03 19:07:08.337</td>\n",
       "    </tr>\n",
       "    <tr>\n",
       "      <th>448763</th>\n",
       "      <td>58820882</td>\n",
       "      <td>1</td>\n",
       "      <td>35090740</td>\n",
       "      <td>2021-08-21 03:06:08.085</td>\n",
       "      <td>2021-08-21 03:17:54.796</td>\n",
       "    </tr>\n",
       "    <tr>\n",
       "      <th>448940</th>\n",
       "      <td>58645698</td>\n",
       "      <td>1</td>\n",
       "      <td>41005884</td>\n",
       "      <td>2021-08-12 17:12:16.546</td>\n",
       "      <td>2021-08-12 17:16:19.029</td>\n",
       "    </tr>\n",
       "  </tbody>\n",
       "</table>\n",
       "<p>2841 rows × 5 columns</p>\n",
       "</div>"
      ],
      "text/plain": [
       "        session_id  subject_id  tutor_id         tutor_joined_on  \\\n",
       "14365     57485574           2  20596344 2021-07-02 05:53:32.541   \n",
       "17779     57805974           2  20596344 2021-07-13 12:35:26.506   \n",
       "18765     57621256           2  10992006 2021-07-07 10:03:32.745   \n",
       "19273     58941868           1  11039266 2021-08-26 16:58:43.915   \n",
       "19842     57950212           3  36309964 2021-07-18 11:18:01.561   \n",
       "...            ...         ...       ...                     ...   \n",
       "448473    58603760           3  38720316 2021-08-11 04:02:22.012   \n",
       "448504    58318592           2  43811614 2021-07-31 13:01:54.474   \n",
       "448588    58409200           3  43245556 2021-08-03 18:59:53.951   \n",
       "448763    58820882           1  35090740 2021-08-21 03:06:08.085   \n",
       "448940    58645698           1  41005884 2021-08-12 17:12:16.546   \n",
       "\n",
       "                     exited_on  \n",
       "14365  2021-07-02 05:54:48.253  \n",
       "17779  2021-07-13 12:39:48.498  \n",
       "18765  2021-07-07 10:23:25.013  \n",
       "19273  2021-08-26 17:02:23.206  \n",
       "19842  2021-07-18 11:28:48.833  \n",
       "...                        ...  \n",
       "448473 2021-08-11 04:06:05.546  \n",
       "448504 2021-07-31 13:07:46.038  \n",
       "448588 2021-08-03 19:07:08.337  \n",
       "448763 2021-08-21 03:17:54.796  \n",
       "448940 2021-08-12 17:16:19.029  \n",
       "\n",
       "[2841 rows x 5 columns]"
      ]
     },
     "execution_count": 33,
     "metadata": {},
     "output_type": "execute_result"
    }
   ],
   "source": [
    "df1[df_trunc.duplicated()]"
   ]
  },
  {
   "cell_type": "code",
   "execution_count": 41,
   "id": "d414e624",
   "metadata": {
    "collapsed": true
   },
   "outputs": [
    {
     "name": "stderr",
     "output_type": "stream",
     "text": [
      "D:\\Anaconda3\\lib\\site-packages\\ipykernel_launcher.py:1: SettingWithCopyWarning: \n",
      "A value is trying to be set on a copy of a slice from a DataFrame.\n",
      "Try using .loc[row_indexer,col_indexer] = value instead\n",
      "\n",
      "See the caveats in the documentation: https://pandas.pydata.org/pandas-docs/stable/user_guide/indexing.html#returning-a-view-versus-a-copy\n",
      "  \"\"\"Entry point for launching an IPython kernel.\n"
     ]
    }
   ],
   "source": [
    "df1['ht'] = (df1.exited_on-df1.tutor_joined_on).astype('timedelta64[s]')/60.0  #calculationg time delta in minutes"
   ]
  },
  {
   "cell_type": "code",
   "execution_count": 46,
   "id": "2ec23407",
   "metadata": {
    "collapsed": true
   },
   "outputs": [
    {
     "name": "stderr",
     "output_type": "stream",
     "text": [
      "D:\\Anaconda3\\lib\\site-packages\\ipykernel_launcher.py:1: SettingWithCopyWarning: \n",
      "A value is trying to be set on a copy of a slice from a DataFrame.\n",
      "Try using .loc[row_indexer,col_indexer] = value instead\n",
      "\n",
      "See the caveats in the documentation: https://pandas.pydata.org/pandas-docs/stable/user_guide/indexing.html#returning-a-view-versus-a-copy\n",
      "  \"\"\"Entry point for launching an IPython kernel.\n"
     ]
    }
   ],
   "source": [
    "df1['month'] = pd.DatetimeIndex(df1['tutor_joined_on']).month"
   ]
  },
  {
   "cell_type": "code",
   "execution_count": 47,
   "id": "bce93607",
   "metadata": {
    "scrolled": true
   },
   "outputs": [
    {
     "data": {
      "text/html": [
       "<div>\n",
       "<style scoped>\n",
       "    .dataframe tbody tr th:only-of-type {\n",
       "        vertical-align: middle;\n",
       "    }\n",
       "\n",
       "    .dataframe tbody tr th {\n",
       "        vertical-align: top;\n",
       "    }\n",
       "\n",
       "    .dataframe thead th {\n",
       "        text-align: right;\n",
       "    }\n",
       "</style>\n",
       "<table border=\"1\" class=\"dataframe\">\n",
       "  <thead>\n",
       "    <tr style=\"text-align: right;\">\n",
       "      <th></th>\n",
       "      <th>session_id</th>\n",
       "      <th>subject_id</th>\n",
       "      <th>tutor_id</th>\n",
       "      <th>tutor_joined_on</th>\n",
       "      <th>exited_on</th>\n",
       "      <th>ht</th>\n",
       "      <th>month</th>\n",
       "    </tr>\n",
       "  </thead>\n",
       "  <tbody>\n",
       "    <tr>\n",
       "      <th>0</th>\n",
       "      <td>58891832</td>\n",
       "      <td>1</td>\n",
       "      <td>25888582</td>\n",
       "      <td>2021-08-24 08:50:59.986</td>\n",
       "      <td>2021-08-24 09:00:38.411</td>\n",
       "      <td>9.633333</td>\n",
       "      <td>8</td>\n",
       "    </tr>\n",
       "    <tr>\n",
       "      <th>1</th>\n",
       "      <td>58895182</td>\n",
       "      <td>1</td>\n",
       "      <td>42704098</td>\n",
       "      <td>2021-08-24 11:20:35.380</td>\n",
       "      <td>2021-08-24 11:35:00.323</td>\n",
       "      <td>14.400000</td>\n",
       "      <td>8</td>\n",
       "    </tr>\n",
       "    <tr>\n",
       "      <th>2</th>\n",
       "      <td>58894350</td>\n",
       "      <td>3</td>\n",
       "      <td>19300924</td>\n",
       "      <td>2021-08-24 10:46:49.303</td>\n",
       "      <td>2021-08-24 10:52:34.587</td>\n",
       "      <td>5.750000</td>\n",
       "      <td>8</td>\n",
       "    </tr>\n",
       "    <tr>\n",
       "      <th>3</th>\n",
       "      <td>58912438</td>\n",
       "      <td>2</td>\n",
       "      <td>25481986</td>\n",
       "      <td>2021-08-25 07:59:47.025</td>\n",
       "      <td>2021-08-25 08:08:21.243</td>\n",
       "      <td>8.566667</td>\n",
       "      <td>8</td>\n",
       "    </tr>\n",
       "    <tr>\n",
       "      <th>4</th>\n",
       "      <td>58913020</td>\n",
       "      <td>1</td>\n",
       "      <td>34486126</td>\n",
       "      <td>2021-08-25 08:31:19.618</td>\n",
       "      <td>2021-08-25 08:33:49.924</td>\n",
       "      <td>2.500000</td>\n",
       "      <td>8</td>\n",
       "    </tr>\n",
       "  </tbody>\n",
       "</table>\n",
       "</div>"
      ],
      "text/plain": [
       "   session_id  subject_id  tutor_id         tutor_joined_on  \\\n",
       "0    58891832           1  25888582 2021-08-24 08:50:59.986   \n",
       "1    58895182           1  42704098 2021-08-24 11:20:35.380   \n",
       "2    58894350           3  19300924 2021-08-24 10:46:49.303   \n",
       "3    58912438           2  25481986 2021-08-25 07:59:47.025   \n",
       "4    58913020           1  34486126 2021-08-25 08:31:19.618   \n",
       "\n",
       "                exited_on         ht  month  \n",
       "0 2021-08-24 09:00:38.411   9.633333      8  \n",
       "1 2021-08-24 11:35:00.323  14.400000      8  \n",
       "2 2021-08-24 10:52:34.587   5.750000      8  \n",
       "3 2021-08-25 08:08:21.243   8.566667      8  \n",
       "4 2021-08-25 08:33:49.924   2.500000      8  "
      ]
     },
     "execution_count": 47,
     "metadata": {},
     "output_type": "execute_result"
    }
   ],
   "source": [
    "df1.head()"
   ]
  },
  {
   "cell_type": "code",
   "execution_count": null,
   "id": "62c13045",
   "metadata": {},
   "outputs": [],
   "source": []
  },
  {
   "cell_type": "markdown",
   "id": "c7842ac3",
   "metadata": {},
   "source": [
    "## Average Handeling time by month for all subjects"
   ]
  },
  {
   "cell_type": "code",
   "execution_count": 55,
   "id": "2deff91b",
   "metadata": {},
   "outputs": [
    {
     "data": {
      "text/plain": [
       "month  subject_id\n",
       "6      1              8.599462\n",
       "       2              8.234028\n",
       "       3             11.886806\n",
       "       4              6.121569\n",
       "7      1             10.578475\n",
       "       2              9.299896\n",
       "       3             10.394616\n",
       "       4              7.230122\n",
       "8      1             10.892168\n",
       "       2              9.966970\n",
       "       3             10.626141\n",
       "       4              7.680623\n",
       "Name: ht, dtype: float64"
      ]
     },
     "execution_count": 55,
     "metadata": {},
     "output_type": "execute_result"
    }
   ],
   "source": [
    "aht_month = df1.groupby(['month','subject_id']).agg('mean').ht\n",
    "aht_month"
   ]
  },
  {
   "cell_type": "code",
   "execution_count": 65,
   "id": "9c6e66c0",
   "metadata": {},
   "outputs": [
    {
     "data": {
      "text/plain": [
       "<AxesSubplot:xlabel='month'>"
      ]
     },
     "execution_count": 65,
     "metadata": {},
     "output_type": "execute_result"
    },
    {
     "data": {
      "image/png": "[encoded data removed]",
      "text/plain": [
       "<Figure size 432x288 with 1 Axes>"
      ]
     },
     "metadata": {
      "needs_background": "light"
     },
     "output_type": "display_data"
    }
   ],
   "source": [
    "aht_month.unstack().reset_index().plot.bar(x='month')"
   ]
  },
  {
   "cell_type": "markdown",
   "id": "7cbbf4a9",
   "metadata": {},
   "source": [
    "## Number of douts per session"
   ]
  },
  {
   "cell_type": "code",
   "execution_count": 80,
   "id": "fe473406",
   "metadata": {},
   "outputs": [
    {
     "data": {
      "text/html": [
       "<div>\n",
       "<style scoped>\n",
       "    .dataframe tbody tr th:only-of-type {\n",
       "        vertical-align: middle;\n",
       "    }\n",
       "\n",
       "    .dataframe tbody tr th {\n",
       "        vertical-align: top;\n",
       "    }\n",
       "\n",
       "    .dataframe thead th {\n",
       "        text-align: right;\n",
       "    }\n",
       "</style>\n",
       "<table border=\"1\" class=\"dataframe\">\n",
       "  <thead>\n",
       "    <tr style=\"text-align: right;\">\n",
       "      <th></th>\n",
       "      <th>session_id</th>\n",
       "      <th>subject_id</th>\n",
       "      <th>tutor_id</th>\n",
       "      <th>tutor_joined_on</th>\n",
       "      <th>exited_on</th>\n",
       "      <th>ht</th>\n",
       "      <th>month</th>\n",
       "    </tr>\n",
       "  </thead>\n",
       "  <tbody>\n",
       "    <tr>\n",
       "      <th>14365</th>\n",
       "      <td>57485574</td>\n",
       "      <td>2</td>\n",
       "      <td>20596344</td>\n",
       "      <td>2021-07-02 05:53:32.541</td>\n",
       "      <td>2021-07-02 05:54:48.253</td>\n",
       "      <td>1.250000</td>\n",
       "      <td>7</td>\n",
       "    </tr>\n",
       "    <tr>\n",
       "      <th>17779</th>\n",
       "      <td>57805974</td>\n",
       "      <td>2</td>\n",
       "      <td>20596344</td>\n",
       "      <td>2021-07-13 12:35:26.506</td>\n",
       "      <td>2021-07-13 12:39:48.498</td>\n",
       "      <td>4.350000</td>\n",
       "      <td>7</td>\n",
       "    </tr>\n",
       "    <tr>\n",
       "      <th>18765</th>\n",
       "      <td>57621256</td>\n",
       "      <td>2</td>\n",
       "      <td>10992006</td>\n",
       "      <td>2021-07-07 10:03:32.745</td>\n",
       "      <td>2021-07-07 10:23:25.013</td>\n",
       "      <td>19.866667</td>\n",
       "      <td>7</td>\n",
       "    </tr>\n",
       "    <tr>\n",
       "      <th>19273</th>\n",
       "      <td>58941868</td>\n",
       "      <td>1</td>\n",
       "      <td>11039266</td>\n",
       "      <td>2021-08-26 16:58:43.915</td>\n",
       "      <td>2021-08-26 17:02:23.206</td>\n",
       "      <td>3.650000</td>\n",
       "      <td>8</td>\n",
       "    </tr>\n",
       "    <tr>\n",
       "      <th>19842</th>\n",
       "      <td>57950212</td>\n",
       "      <td>3</td>\n",
       "      <td>36309964</td>\n",
       "      <td>2021-07-18 11:18:01.561</td>\n",
       "      <td>2021-07-18 11:28:48.833</td>\n",
       "      <td>10.783333</td>\n",
       "      <td>7</td>\n",
       "    </tr>\n",
       "  </tbody>\n",
       "</table>\n",
       "</div>"
      ],
      "text/plain": [
       "       session_id  subject_id  tutor_id         tutor_joined_on  \\\n",
       "14365    57485574           2  20596344 2021-07-02 05:53:32.541   \n",
       "17779    57805974           2  20596344 2021-07-13 12:35:26.506   \n",
       "18765    57621256           2  10992006 2021-07-07 10:03:32.745   \n",
       "19273    58941868           1  11039266 2021-08-26 16:58:43.915   \n",
       "19842    57950212           3  36309964 2021-07-18 11:18:01.561   \n",
       "\n",
       "                    exited_on         ht  month  \n",
       "14365 2021-07-02 05:54:48.253   1.250000      7  \n",
       "17779 2021-07-13 12:39:48.498   4.350000      7  \n",
       "18765 2021-07-07 10:23:25.013  19.866667      7  \n",
       "19273 2021-08-26 17:02:23.206   3.650000      8  \n",
       "19842 2021-07-18 11:28:48.833  10.783333      7  "
      ]
     },
     "execution_count": 80,
     "metadata": {},
     "output_type": "execute_result"
    }
   ],
   "source": [
    "df1[df_trunc.duplicated()].head()"
   ]
  },
  {
   "cell_type": "code",
   "execution_count": 75,
   "id": "95f02d6d",
   "metadata": {},
   "outputs": [
    {
     "data": {
      "text/html": [
       "<div>\n",
       "<style scoped>\n",
       "    .dataframe tbody tr th:only-of-type {\n",
       "        vertical-align: middle;\n",
       "    }\n",
       "\n",
       "    .dataframe tbody tr th {\n",
       "        vertical-align: top;\n",
       "    }\n",
       "\n",
       "    .dataframe thead th {\n",
       "        text-align: right;\n",
       "    }\n",
       "</style>\n",
       "<table border=\"1\" class=\"dataframe\">\n",
       "  <thead>\n",
       "    <tr style=\"text-align: right;\">\n",
       "      <th></th>\n",
       "      <th>session_id</th>\n",
       "      <th>subject_id</th>\n",
       "      <th>tutor_id</th>\n",
       "      <th>tutor_joined_on</th>\n",
       "      <th>exited_on</th>\n",
       "      <th>ht</th>\n",
       "      <th>month</th>\n",
       "    </tr>\n",
       "  </thead>\n",
       "  <tbody>\n",
       "    <tr>\n",
       "      <th>2005</th>\n",
       "      <td>57485574</td>\n",
       "      <td>2</td>\n",
       "      <td>17331878</td>\n",
       "      <td>2021-07-02 05:33:42.605</td>\n",
       "      <td>2021-07-02 05:53:15.654</td>\n",
       "      <td>19.55</td>\n",
       "      <td>7</td>\n",
       "    </tr>\n",
       "    <tr>\n",
       "      <th>14365</th>\n",
       "      <td>57485574</td>\n",
       "      <td>2</td>\n",
       "      <td>20596344</td>\n",
       "      <td>2021-07-02 05:53:32.541</td>\n",
       "      <td>2021-07-02 05:54:48.253</td>\n",
       "      <td>1.25</td>\n",
       "      <td>7</td>\n",
       "    </tr>\n",
       "  </tbody>\n",
       "</table>\n",
       "</div>"
      ],
      "text/plain": [
       "       session_id  subject_id  tutor_id         tutor_joined_on  \\\n",
       "2005     57485574           2  17331878 2021-07-02 05:33:42.605   \n",
       "14365    57485574           2  20596344 2021-07-02 05:53:32.541   \n",
       "\n",
       "                    exited_on     ht  month  \n",
       "2005  2021-07-02 05:53:15.654  19.55      7  \n",
       "14365 2021-07-02 05:54:48.253   1.25      7  "
      ]
     },
     "execution_count": 75,
     "metadata": {},
     "output_type": "execute_result"
    }
   ],
   "source": [
    "df1[df1.session_id == 57485574]"
   ]
  },
  {
   "cell_type": "code",
   "execution_count": 76,
   "id": "cc126459",
   "metadata": {},
   "outputs": [],
   "source": [
    "df_sess_tut = df1[['session_id', 'tutor_id']]"
   ]
  },
  {
   "cell_type": "code",
   "execution_count": 79,
   "id": "0f167f65",
   "metadata": {},
   "outputs": [
    {
     "data": {
      "text/html": [
       "<div>\n",
       "<style scoped>\n",
       "    .dataframe tbody tr th:only-of-type {\n",
       "        vertical-align: middle;\n",
       "    }\n",
       "\n",
       "    .dataframe tbody tr th {\n",
       "        vertical-align: top;\n",
       "    }\n",
       "\n",
       "    .dataframe thead th {\n",
       "        text-align: right;\n",
       "    }\n",
       "</style>\n",
       "<table border=\"1\" class=\"dataframe\">\n",
       "  <thead>\n",
       "    <tr style=\"text-align: right;\">\n",
       "      <th></th>\n",
       "      <th>session_id</th>\n",
       "      <th>tutor_id</th>\n",
       "    </tr>\n",
       "  </thead>\n",
       "  <tbody>\n",
       "    <tr>\n",
       "      <th>0</th>\n",
       "      <td>58891832</td>\n",
       "      <td>25888582</td>\n",
       "    </tr>\n",
       "    <tr>\n",
       "      <th>1</th>\n",
       "      <td>58895182</td>\n",
       "      <td>42704098</td>\n",
       "    </tr>\n",
       "    <tr>\n",
       "      <th>2</th>\n",
       "      <td>58894350</td>\n",
       "      <td>19300924</td>\n",
       "    </tr>\n",
       "    <tr>\n",
       "      <th>3</th>\n",
       "      <td>58912438</td>\n",
       "      <td>25481986</td>\n",
       "    </tr>\n",
       "    <tr>\n",
       "      <th>4</th>\n",
       "      <td>58913020</td>\n",
       "      <td>34486126</td>\n",
       "    </tr>\n",
       "  </tbody>\n",
       "</table>\n",
       "</div>"
      ],
      "text/plain": [
       "   session_id  tutor_id\n",
       "0    58891832  25888582\n",
       "1    58895182  42704098\n",
       "2    58894350  19300924\n",
       "3    58912438  25481986\n",
       "4    58913020  34486126"
      ]
     },
     "execution_count": 79,
     "metadata": {},
     "output_type": "execute_result"
    }
   ],
   "source": [
    "df_sess_tut.head()"
   ]
  },
  {
   "cell_type": "code",
   "execution_count": 78,
   "id": "7f58ff8f",
   "metadata": {},
   "outputs": [
    {
     "data": {
      "text/html": [
       "<div>\n",
       "<style scoped>\n",
       "    .dataframe tbody tr th:only-of-type {\n",
       "        vertical-align: middle;\n",
       "    }\n",
       "\n",
       "    .dataframe tbody tr th {\n",
       "        vertical-align: top;\n",
       "    }\n",
       "\n",
       "    .dataframe thead th {\n",
       "        text-align: right;\n",
       "    }\n",
       "</style>\n",
       "<table border=\"1\" class=\"dataframe\">\n",
       "  <thead>\n",
       "    <tr style=\"text-align: right;\">\n",
       "      <th></th>\n",
       "      <th>session_id</th>\n",
       "      <th>subject_id</th>\n",
       "      <th>tutor_id</th>\n",
       "      <th>tutor_joined_on</th>\n",
       "      <th>exited_on</th>\n",
       "      <th>ht</th>\n",
       "      <th>month</th>\n",
       "    </tr>\n",
       "  </thead>\n",
       "  <tbody>\n",
       "  </tbody>\n",
       "</table>\n",
       "</div>"
      ],
      "text/plain": [
       "Empty DataFrame\n",
       "Columns: [session_id, subject_id, tutor_id, tutor_joined_on, exited_on, ht, month]\n",
       "Index: []"
      ]
     },
     "execution_count": 78,
     "metadata": {},
     "output_type": "execute_result"
    }
   ],
   "source": [
    "df1[df_sess_tut.duplicated()]"
   ]
  },
  {
   "cell_type": "markdown",
   "id": "d0073b90",
   "metadata": {},
   "source": [
    "### The above dataframe is empty imples when we have a common session id where multiple doubts are resolved, the tutor is different. So the tutor is only solving one doubt per session id"
   ]
  },
  {
   "cell_type": "markdown",
   "id": "cc1fb000",
   "metadata": {},
   "source": [
    "### Checking if one tutor is present in multiple session at the same time:"
   ]
  },
  {
   "cell_type": "code",
   "execution_count": 94,
   "id": "66f3eb07",
   "metadata": {
    "collapsed": true
   },
   "outputs": [
    {
     "name": "stderr",
     "output_type": "stream",
     "text": [
      "D:\\Anaconda3\\lib\\site-packages\\ipykernel_launcher.py:1: SettingWithCopyWarning: \n",
      "A value is trying to be set on a copy of a slice from a DataFrame.\n",
      "Try using .loc[row_indexer,col_indexer] = value instead\n",
      "\n",
      "See the caveats in the documentation: https://pandas.pydata.org/pandas-docs/stable/user_guide/indexing.html#returning-a-view-versus-a-copy\n",
      "  \"\"\"Entry point for launching an IPython kernel.\n"
     ]
    }
   ],
   "source": [
    "df1['uid'] = df1.session_id.apply(str) + '_' + df1.tutor_id.apply(str)"
   ]
  },
  {
   "cell_type": "code",
   "execution_count": 109,
   "id": "2d2aaade",
   "metadata": {
    "collapsed": true
   },
   "outputs": [
    {
     "name": "stderr",
     "output_type": "stream",
     "text": [
      "D:\\Anaconda3\\lib\\site-packages\\ipykernel_launcher.py:1: SettingWithCopyWarning: \n",
      "A value is trying to be set on a copy of a slice from a DataFrame.\n",
      "Try using .loc[row_indexer,col_indexer] = value instead\n",
      "\n",
      "See the caveats in the documentation: https://pandas.pydata.org/pandas-docs/stable/user_guide/indexing.html#returning-a-view-versus-a-copy\n",
      "  \"\"\"Entry point for launching an IPython kernel.\n"
     ]
    }
   ],
   "source": [
    "df1['parallel_ses'] = 0"
   ]
  },
  {
   "cell_type": "code",
   "execution_count": 110,
   "id": "1ae63c82",
   "metadata": {},
   "outputs": [
    {
     "data": {
      "text/html": [
       "<div>\n",
       "<style scoped>\n",
       "    .dataframe tbody tr th:only-of-type {\n",
       "        vertical-align: middle;\n",
       "    }\n",
       "\n",
       "    .dataframe tbody tr th {\n",
       "        vertical-align: top;\n",
       "    }\n",
       "\n",
       "    .dataframe thead th {\n",
       "        text-align: right;\n",
       "    }\n",
       "</style>\n",
       "<table border=\"1\" class=\"dataframe\">\n",
       "  <thead>\n",
       "    <tr style=\"text-align: right;\">\n",
       "      <th></th>\n",
       "      <th>session_id</th>\n",
       "      <th>subject_id</th>\n",
       "      <th>tutor_id</th>\n",
       "      <th>tutor_joined_on</th>\n",
       "      <th>exited_on</th>\n",
       "      <th>ht</th>\n",
       "      <th>month</th>\n",
       "      <th>uid</th>\n",
       "      <th>parallel_ses</th>\n",
       "    </tr>\n",
       "  </thead>\n",
       "  <tbody>\n",
       "    <tr>\n",
       "      <th>0</th>\n",
       "      <td>58891832</td>\n",
       "      <td>1</td>\n",
       "      <td>25888582</td>\n",
       "      <td>2021-08-24 08:50:59.986</td>\n",
       "      <td>2021-08-24 09:00:38.411</td>\n",
       "      <td>9.633333</td>\n",
       "      <td>8</td>\n",
       "      <td>58891832_25888582</td>\n",
       "      <td>0</td>\n",
       "    </tr>\n",
       "    <tr>\n",
       "      <th>1</th>\n",
       "      <td>58895182</td>\n",
       "      <td>1</td>\n",
       "      <td>42704098</td>\n",
       "      <td>2021-08-24 11:20:35.380</td>\n",
       "      <td>2021-08-24 11:35:00.323</td>\n",
       "      <td>14.400000</td>\n",
       "      <td>8</td>\n",
       "      <td>58895182_42704098</td>\n",
       "      <td>0</td>\n",
       "    </tr>\n",
       "    <tr>\n",
       "      <th>2</th>\n",
       "      <td>58894350</td>\n",
       "      <td>3</td>\n",
       "      <td>19300924</td>\n",
       "      <td>2021-08-24 10:46:49.303</td>\n",
       "      <td>2021-08-24 10:52:34.587</td>\n",
       "      <td>5.750000</td>\n",
       "      <td>8</td>\n",
       "      <td>58894350_19300924</td>\n",
       "      <td>0</td>\n",
       "    </tr>\n",
       "    <tr>\n",
       "      <th>3</th>\n",
       "      <td>58912438</td>\n",
       "      <td>2</td>\n",
       "      <td>25481986</td>\n",
       "      <td>2021-08-25 07:59:47.025</td>\n",
       "      <td>2021-08-25 08:08:21.243</td>\n",
       "      <td>8.566667</td>\n",
       "      <td>8</td>\n",
       "      <td>58912438_25481986</td>\n",
       "      <td>0</td>\n",
       "    </tr>\n",
       "    <tr>\n",
       "      <th>4</th>\n",
       "      <td>58913020</td>\n",
       "      <td>1</td>\n",
       "      <td>34486126</td>\n",
       "      <td>2021-08-25 08:31:19.618</td>\n",
       "      <td>2021-08-25 08:33:49.924</td>\n",
       "      <td>2.500000</td>\n",
       "      <td>8</td>\n",
       "      <td>58913020_34486126</td>\n",
       "      <td>0</td>\n",
       "    </tr>\n",
       "  </tbody>\n",
       "</table>\n",
       "</div>"
      ],
      "text/plain": [
       "   session_id  subject_id  tutor_id         tutor_joined_on  \\\n",
       "0    58891832           1  25888582 2021-08-24 08:50:59.986   \n",
       "1    58895182           1  42704098 2021-08-24 11:20:35.380   \n",
       "2    58894350           3  19300924 2021-08-24 10:46:49.303   \n",
       "3    58912438           2  25481986 2021-08-25 07:59:47.025   \n",
       "4    58913020           1  34486126 2021-08-25 08:31:19.618   \n",
       "\n",
       "                exited_on         ht  month                uid  parallel_ses  \n",
       "0 2021-08-24 09:00:38.411   9.633333      8  58891832_25888582             0  \n",
       "1 2021-08-24 11:35:00.323  14.400000      8  58895182_42704098             0  \n",
       "2 2021-08-24 10:52:34.587   5.750000      8  58894350_19300924             0  \n",
       "3 2021-08-25 08:08:21.243   8.566667      8  58912438_25481986             0  \n",
       "4 2021-08-25 08:33:49.924   2.500000      8  58913020_34486126             0  "
      ]
     },
     "execution_count": 110,
     "metadata": {},
     "output_type": "execute_result"
    }
   ],
   "source": [
    "df1.head()"
   ]
  },
  {
   "cell_type": "code",
   "execution_count": 111,
   "id": "891c3a3f",
   "metadata": {},
   "outputs": [],
   "source": [
    "tutor_grp = df1.groupby('tutor_id')"
   ]
  },
  {
   "cell_type": "code",
   "execution_count": 124,
   "id": "a0a1d672",
   "metadata": {},
   "outputs": [],
   "source": [
    "# my = 0\n",
    "from tqdm import tqdm"
   ]
  },
  {
   "cell_type": "code",
   "execution_count": 174,
   "id": "b4270907",
   "metadata": {},
   "outputs": [],
   "source": [
    "df2 = df1.copy()\n",
    "# df2['parallel_ses'] = np.nan"
   ]
  },
  {
   "cell_type": "code",
   "execution_count": 188,
   "id": "2c4f7588",
   "metadata": {},
   "outputs": [
    {
     "name": "stderr",
     "output_type": "stream",
     "text": [
      "100%|██████████████████████████████████████████████████████████████████████████████| 807/807 [1:34:34<00:00,  7.03s/it]"
     ]
    },
    {
     "name": "stdout",
     "output_type": "stream",
     "text": [
      "Wall time: 1h 34min 34s\n"
     ]
    },
    {
     "name": "stderr",
     "output_type": "stream",
     "text": [
      "\n"
     ]
    }
   ],
   "source": [
    "%%time\n",
    "# my = 0\n",
    "df_par = pd.DataFrame()\n",
    "for tutor, tutor_df in tqdm(tutor_grp):\n",
    "#     if my >3:\n",
    "#         break\n",
    "    dftemp = tutor_df.sort_values('tutor_joined_on').reset_index(drop=True)\n",
    "    for j in range(len(dftemp)):\n",
    "        en_cur = dftemp.iloc[j].exited_on\n",
    "        st_cur = dftemp.iloc[j].tutor_joined_on\n",
    "        cou = 0\n",
    "        for k in range(max(0,j-10),min(j+10,len(dftemp))):\n",
    "            if dftemp.iloc[k].tutor_joined_on > en_cur:\n",
    "                break\n",
    "            if dftemp.iloc[k].tutor_joined_on < en_cur and dftemp.iloc[k].exited_on > st_cur:\n",
    "                cou += 1\n",
    "        dftemp.at[j,'parallel_ses'] = cou\n",
    "#     my+=1\n",
    "    dftemp1 = dftemp[['uid', 'parallel_ses']]\n",
    "    df_par = pd.concat([df_par,dftemp1], ignore_index = True)\n",
    "#     df2 = df2.merge(dftemp1, on = ['uid', 'parallel_ses'], how = 'outer')\n",
    "#     print(dftemp)\n",
    "    "
   ]
  },
  {
   "cell_type": "code",
   "execution_count": 189,
   "id": "be12226b",
   "metadata": {},
   "outputs": [
    {
     "data": {
      "text/html": [
       "<div>\n",
       "<style scoped>\n",
       "    .dataframe tbody tr th:only-of-type {\n",
       "        vertical-align: middle;\n",
       "    }\n",
       "\n",
       "    .dataframe tbody tr th {\n",
       "        vertical-align: top;\n",
       "    }\n",
       "\n",
       "    .dataframe thead th {\n",
       "        text-align: right;\n",
       "    }\n",
       "</style>\n",
       "<table border=\"1\" class=\"dataframe\">\n",
       "  <thead>\n",
       "    <tr style=\"text-align: right;\">\n",
       "      <th></th>\n",
       "      <th>uid</th>\n",
       "      <th>parallel_ses</th>\n",
       "    </tr>\n",
       "  </thead>\n",
       "  <tbody>\n",
       "    <tr>\n",
       "      <th>0</th>\n",
       "      <td>57567324_28988</td>\n",
       "      <td>1</td>\n",
       "    </tr>\n",
       "    <tr>\n",
       "      <th>1</th>\n",
       "      <td>58646444_503616</td>\n",
       "      <td>1</td>\n",
       "    </tr>\n",
       "    <tr>\n",
       "      <th>2</th>\n",
       "      <td>58662510_503616</td>\n",
       "      <td>1</td>\n",
       "    </tr>\n",
       "    <tr>\n",
       "      <th>3</th>\n",
       "      <td>58810874_503616</td>\n",
       "      <td>1</td>\n",
       "    </tr>\n",
       "    <tr>\n",
       "      <th>4</th>\n",
       "      <td>58868954_503616</td>\n",
       "      <td>1</td>\n",
       "    </tr>\n",
       "    <tr>\n",
       "      <th>...</th>\n",
       "      <td>...</td>\n",
       "      <td>...</td>\n",
       "    </tr>\n",
       "    <tr>\n",
       "      <th>448184</th>\n",
       "      <td>58941582_45836146</td>\n",
       "      <td>4</td>\n",
       "    </tr>\n",
       "    <tr>\n",
       "      <th>448185</th>\n",
       "      <td>58941956_45836146</td>\n",
       "      <td>3</td>\n",
       "    </tr>\n",
       "    <tr>\n",
       "      <th>448186</th>\n",
       "      <td>58942028_45836146</td>\n",
       "      <td>2</td>\n",
       "    </tr>\n",
       "    <tr>\n",
       "      <th>448187</th>\n",
       "      <td>58812814_45848576</td>\n",
       "      <td>1</td>\n",
       "    </tr>\n",
       "    <tr>\n",
       "      <th>448188</th>\n",
       "      <td>58867468_45889138</td>\n",
       "      <td>1</td>\n",
       "    </tr>\n",
       "  </tbody>\n",
       "</table>\n",
       "<p>448189 rows × 2 columns</p>\n",
       "</div>"
      ],
      "text/plain": [
       "                      uid  parallel_ses\n",
       "0          57567324_28988             1\n",
       "1         58646444_503616             1\n",
       "2         58662510_503616             1\n",
       "3         58810874_503616             1\n",
       "4         58868954_503616             1\n",
       "...                   ...           ...\n",
       "448184  58941582_45836146             4\n",
       "448185  58941956_45836146             3\n",
       "448186  58942028_45836146             2\n",
       "448187  58812814_45848576             1\n",
       "448188  58867468_45889138             1\n",
       "\n",
       "[448189 rows x 2 columns]"
      ]
     },
     "execution_count": 189,
     "metadata": {},
     "output_type": "execute_result"
    }
   ],
   "source": [
    "df_par"
   ]
  },
  {
   "cell_type": "code",
   "execution_count": 190,
   "id": "4d013fb2",
   "metadata": {},
   "outputs": [],
   "source": [
    "ddd = pd.merge(df2,df_par, on = 'uid', how = 'inner')"
   ]
  },
  {
   "cell_type": "code",
   "execution_count": 192,
   "id": "c64245cd",
   "metadata": {},
   "outputs": [
    {
     "data": {
      "text/html": [
       "<div>\n",
       "<style scoped>\n",
       "    .dataframe tbody tr th:only-of-type {\n",
       "        vertical-align: middle;\n",
       "    }\n",
       "\n",
       "    .dataframe tbody tr th {\n",
       "        vertical-align: top;\n",
       "    }\n",
       "\n",
       "    .dataframe thead th {\n",
       "        text-align: right;\n",
       "    }\n",
       "</style>\n",
       "<table border=\"1\" class=\"dataframe\">\n",
       "  <thead>\n",
       "    <tr style=\"text-align: right;\">\n",
       "      <th></th>\n",
       "      <th>session_id</th>\n",
       "      <th>subject_id</th>\n",
       "      <th>tutor_id</th>\n",
       "      <th>tutor_joined_on</th>\n",
       "      <th>exited_on</th>\n",
       "      <th>ht</th>\n",
       "      <th>month</th>\n",
       "      <th>uid</th>\n",
       "      <th>parallel_ses_x</th>\n",
       "      <th>parallel_ses_y</th>\n",
       "    </tr>\n",
       "  </thead>\n",
       "  <tbody>\n",
       "    <tr>\n",
       "      <th>0</th>\n",
       "      <td>58891832</td>\n",
       "      <td>1</td>\n",
       "      <td>25888582</td>\n",
       "      <td>2021-08-24 08:50:59.986</td>\n",
       "      <td>2021-08-24 09:00:38.411</td>\n",
       "      <td>9.633333</td>\n",
       "      <td>8</td>\n",
       "      <td>58891832_25888582</td>\n",
       "      <td>0</td>\n",
       "      <td>7</td>\n",
       "    </tr>\n",
       "    <tr>\n",
       "      <th>1</th>\n",
       "      <td>58895182</td>\n",
       "      <td>1</td>\n",
       "      <td>42704098</td>\n",
       "      <td>2021-08-24 11:20:35.380</td>\n",
       "      <td>2021-08-24 11:35:00.323</td>\n",
       "      <td>14.400000</td>\n",
       "      <td>8</td>\n",
       "      <td>58895182_42704098</td>\n",
       "      <td>0</td>\n",
       "      <td>5</td>\n",
       "    </tr>\n",
       "    <tr>\n",
       "      <th>2</th>\n",
       "      <td>58894350</td>\n",
       "      <td>3</td>\n",
       "      <td>19300924</td>\n",
       "      <td>2021-08-24 10:46:49.303</td>\n",
       "      <td>2021-08-24 10:52:34.587</td>\n",
       "      <td>5.750000</td>\n",
       "      <td>8</td>\n",
       "      <td>58894350_19300924</td>\n",
       "      <td>0</td>\n",
       "      <td>5</td>\n",
       "    </tr>\n",
       "    <tr>\n",
       "      <th>3</th>\n",
       "      <td>58912438</td>\n",
       "      <td>2</td>\n",
       "      <td>25481986</td>\n",
       "      <td>2021-08-25 07:59:47.025</td>\n",
       "      <td>2021-08-25 08:08:21.243</td>\n",
       "      <td>8.566667</td>\n",
       "      <td>8</td>\n",
       "      <td>58912438_25481986</td>\n",
       "      <td>0</td>\n",
       "      <td>4</td>\n",
       "    </tr>\n",
       "    <tr>\n",
       "      <th>4</th>\n",
       "      <td>58913020</td>\n",
       "      <td>1</td>\n",
       "      <td>34486126</td>\n",
       "      <td>2021-08-25 08:31:19.618</td>\n",
       "      <td>2021-08-25 08:33:49.924</td>\n",
       "      <td>2.500000</td>\n",
       "      <td>8</td>\n",
       "      <td>58913020_34486126</td>\n",
       "      <td>0</td>\n",
       "      <td>4</td>\n",
       "    </tr>\n",
       "  </tbody>\n",
       "</table>\n",
       "</div>"
      ],
      "text/plain": [
       "   session_id  subject_id  tutor_id         tutor_joined_on  \\\n",
       "0    58891832           1  25888582 2021-08-24 08:50:59.986   \n",
       "1    58895182           1  42704098 2021-08-24 11:20:35.380   \n",
       "2    58894350           3  19300924 2021-08-24 10:46:49.303   \n",
       "3    58912438           2  25481986 2021-08-25 07:59:47.025   \n",
       "4    58913020           1  34486126 2021-08-25 08:31:19.618   \n",
       "\n",
       "                exited_on         ht  month                uid  \\\n",
       "0 2021-08-24 09:00:38.411   9.633333      8  58891832_25888582   \n",
       "1 2021-08-24 11:35:00.323  14.400000      8  58895182_42704098   \n",
       "2 2021-08-24 10:52:34.587   5.750000      8  58894350_19300924   \n",
       "3 2021-08-25 08:08:21.243   8.566667      8  58912438_25481986   \n",
       "4 2021-08-25 08:33:49.924   2.500000      8  58913020_34486126   \n",
       "\n",
       "   parallel_ses_x  parallel_ses_y  \n",
       "0               0               7  \n",
       "1               0               5  \n",
       "2               0               5  \n",
       "3               0               4  \n",
       "4               0               4  "
      ]
     },
     "execution_count": 192,
     "metadata": {},
     "output_type": "execute_result"
    }
   ],
   "source": [
    "ddd.head()"
   ]
  },
  {
   "cell_type": "code",
   "execution_count": 196,
   "id": "81e4f3a9",
   "metadata": {},
   "outputs": [
    {
     "name": "stderr",
     "output_type": "stream",
     "text": [
      "D:\\Anaconda3\\lib\\site-packages\\seaborn\\_decorators.py:43: FutureWarning: Pass the following variable as a keyword arg: x. From version 0.12, the only valid positional argument will be `data`, and passing other arguments without an explicit keyword will result in an error or misinterpretation.\n",
      "  FutureWarning\n"
     ]
    },
    {
     "data": {
      "image/png": "[encoded data removed]",
      "text/plain": [
       "<Figure size 432x288 with 1 Axes>"
      ]
     },
     "metadata": {},
     "output_type": "display_data"
    }
   ],
   "source": [
    "sns.countplot(ddd.parallel_ses_y)\n",
    "plt.title('Count of Number of parallel sessions')\n",
    "plt.show()"
   ]
  },
  {
   "cell_type": "markdown",
   "id": "8a7a2bb9",
   "metadata": {},
   "source": [
    "## From the plot it is established that there are some sessions where a tutor is working parallely on more than 20 problems simultaniously. Here is a snippet to verify if the finding is correct:"
   ]
  },
  {
   "attachments": {
    "image.png": {
     "image/png": "[encoded data removed]"
    }
   },
   "cell_type": "markdown",
   "id": "54dca593",
   "metadata": {},
   "source": [
    "![image.png](attachment:image.png)"
   ]
  },
  {
   "cell_type": "code",
   "execution_count": 197,
   "id": "af46ebf6",
   "metadata": {},
   "outputs": [
    {
     "data": {
      "text/plain": [
       "Text(0.5, 1.0, 'Average time vs Number of Sessions')"
      ]
     },
     "execution_count": 197,
     "metadata": {},
     "output_type": "execute_result"
    },
    {
     "data": {
      "image/png": "[encoded data removed]",
      "text/plain": [
       "<Figure size 432x288 with 1 Axes>"
      ]
     },
     "metadata": {},
     "output_type": "display_data"
    }
   ],
   "source": [
    "ddd.groupby('parallel_ses_y').ht.agg('mean').plot.bar()\n",
    "plt.xlabel(\"parallel sessions\")\n",
    "plt.ylabel(\"average time in minutes\")\n",
    "plt.title(\"Average time vs Number of Sessions\")"
   ]
  },
  {
   "cell_type": "markdown",
   "id": "83eed603",
   "metadata": {},
   "source": [
    "## We see that as the number of sessions increase, the average handling time also increases. We can consider a threshold of 10 mins for a session and that would imply that we allow a max of 4 sessions at a time so that the duration is not much."
   ]
  },
  {
   "cell_type": "code",
   "execution_count": 203,
   "id": "82bca272",
   "metadata": {},
   "outputs": [
    {
     "data": {
      "text/html": [
       "<div>\n",
       "<style scoped>\n",
       "    .dataframe tbody tr th:only-of-type {\n",
       "        vertical-align: middle;\n",
       "    }\n",
       "\n",
       "    .dataframe tbody tr th {\n",
       "        vertical-align: top;\n",
       "    }\n",
       "\n",
       "    .dataframe thead th {\n",
       "        text-align: right;\n",
       "    }\n",
       "</style>\n",
       "<table border=\"1\" class=\"dataframe\">\n",
       "  <thead>\n",
       "    <tr style=\"text-align: right;\">\n",
       "      <th></th>\n",
       "      <th>session_id</th>\n",
       "      <th>subject_id</th>\n",
       "      <th>tutor_id</th>\n",
       "      <th>tutor_joined_on</th>\n",
       "      <th>exited_on</th>\n",
       "      <th>ht</th>\n",
       "      <th>month</th>\n",
       "      <th>uid</th>\n",
       "      <th>parallel_ses_x</th>\n",
       "      <th>parallel_ses_y</th>\n",
       "    </tr>\n",
       "  </thead>\n",
       "  <tbody>\n",
       "    <tr>\n",
       "      <th>101685</th>\n",
       "      <td>57689032</td>\n",
       "      <td>3</td>\n",
       "      <td>34485238</td>\n",
       "      <td>2021-07-10 05:36:15.311</td>\n",
       "      <td>2021-07-10 05:49:01.334</td>\n",
       "      <td>12.766667</td>\n",
       "      <td>7</td>\n",
       "      <td>57689032_34485238</td>\n",
       "      <td>0</td>\n",
       "      <td>20</td>\n",
       "    </tr>\n",
       "    <tr>\n",
       "      <th>390438</th>\n",
       "      <td>57689090</td>\n",
       "      <td>3</td>\n",
       "      <td>34485238</td>\n",
       "      <td>2021-07-10 05:37:02.542</td>\n",
       "      <td>2021-07-10 06:13:46.949</td>\n",
       "      <td>36.733333</td>\n",
       "      <td>7</td>\n",
       "      <td>57689090_34485238</td>\n",
       "      <td>0</td>\n",
       "      <td>20</td>\n",
       "    </tr>\n",
       "    <tr>\n",
       "      <th>94190</th>\n",
       "      <td>57690196</td>\n",
       "      <td>3</td>\n",
       "      <td>34485238</td>\n",
       "      <td>2021-07-10 05:58:53.942</td>\n",
       "      <td>2021-07-10 06:17:55.432</td>\n",
       "      <td>19.016667</td>\n",
       "      <td>7</td>\n",
       "      <td>57690196_34485238</td>\n",
       "      <td>0</td>\n",
       "      <td>20</td>\n",
       "    </tr>\n",
       "    <tr>\n",
       "      <th>342704</th>\n",
       "      <td>57690408</td>\n",
       "      <td>3</td>\n",
       "      <td>34485238</td>\n",
       "      <td>2021-07-10 06:02:43.361</td>\n",
       "      <td>2021-07-10 06:26:39.371</td>\n",
       "      <td>23.933333</td>\n",
       "      <td>7</td>\n",
       "      <td>57690408_34485238</td>\n",
       "      <td>0</td>\n",
       "      <td>20</td>\n",
       "    </tr>\n",
       "    <tr>\n",
       "      <th>132177</th>\n",
       "      <td>57820454</td>\n",
       "      <td>2</td>\n",
       "      <td>36590498</td>\n",
       "      <td>2021-07-14 05:06:00.226</td>\n",
       "      <td>2021-07-14 05:25:00.300</td>\n",
       "      <td>19.000000</td>\n",
       "      <td>7</td>\n",
       "      <td>57820454_36590498</td>\n",
       "      <td>0</td>\n",
       "      <td>20</td>\n",
       "    </tr>\n",
       "    <tr>\n",
       "      <th>...</th>\n",
       "      <td>...</td>\n",
       "      <td>...</td>\n",
       "      <td>...</td>\n",
       "      <td>...</td>\n",
       "      <td>...</td>\n",
       "      <td>...</td>\n",
       "      <td>...</td>\n",
       "      <td>...</td>\n",
       "      <td>...</td>\n",
       "      <td>...</td>\n",
       "    </tr>\n",
       "    <tr>\n",
       "      <th>23819</th>\n",
       "      <td>58887978</td>\n",
       "      <td>3</td>\n",
       "      <td>17860326</td>\n",
       "      <td>2021-08-24 05:54:07.800</td>\n",
       "      <td>2021-08-24 06:12:00.350</td>\n",
       "      <td>17.866667</td>\n",
       "      <td>8</td>\n",
       "      <td>58887978_17860326</td>\n",
       "      <td>0</td>\n",
       "      <td>20</td>\n",
       "    </tr>\n",
       "    <tr>\n",
       "      <th>92336</th>\n",
       "      <td>58927856</td>\n",
       "      <td>3</td>\n",
       "      <td>26274430</td>\n",
       "      <td>2021-08-26 05:37:35.590</td>\n",
       "      <td>2021-08-26 05:53:00.504</td>\n",
       "      <td>15.400000</td>\n",
       "      <td>8</td>\n",
       "      <td>58927856_26274430</td>\n",
       "      <td>0</td>\n",
       "      <td>20</td>\n",
       "    </tr>\n",
       "    <tr>\n",
       "      <th>335446</th>\n",
       "      <td>58927412</td>\n",
       "      <td>3</td>\n",
       "      <td>26274430</td>\n",
       "      <td>2021-08-26 05:38:53.024</td>\n",
       "      <td>2021-08-26 05:50:37.487</td>\n",
       "      <td>11.733333</td>\n",
       "      <td>8</td>\n",
       "      <td>58927412_26274430</td>\n",
       "      <td>0</td>\n",
       "      <td>20</td>\n",
       "    </tr>\n",
       "    <tr>\n",
       "      <th>51534</th>\n",
       "      <td>58996470</td>\n",
       "      <td>2</td>\n",
       "      <td>18325306</td>\n",
       "      <td>2021-08-29 05:42:32.099</td>\n",
       "      <td>2021-08-29 06:13:35.051</td>\n",
       "      <td>31.033333</td>\n",
       "      <td>8</td>\n",
       "      <td>58996470_18325306</td>\n",
       "      <td>0</td>\n",
       "      <td>20</td>\n",
       "    </tr>\n",
       "    <tr>\n",
       "      <th>139911</th>\n",
       "      <td>59000650</td>\n",
       "      <td>2</td>\n",
       "      <td>29601284</td>\n",
       "      <td>2021-08-29 06:45:31.174</td>\n",
       "      <td>2021-08-29 06:54:03.780</td>\n",
       "      <td>8.533333</td>\n",
       "      <td>8</td>\n",
       "      <td>59000650_29601284</td>\n",
       "      <td>0</td>\n",
       "      <td>20</td>\n",
       "    </tr>\n",
       "  </tbody>\n",
       "</table>\n",
       "<p>70 rows × 10 columns</p>\n",
       "</div>"
      ],
      "text/plain": [
       "        session_id  subject_id  tutor_id         tutor_joined_on  \\\n",
       "101685    57689032           3  34485238 2021-07-10 05:36:15.311   \n",
       "390438    57689090           3  34485238 2021-07-10 05:37:02.542   \n",
       "94190     57690196           3  34485238 2021-07-10 05:58:53.942   \n",
       "342704    57690408           3  34485238 2021-07-10 06:02:43.361   \n",
       "132177    57820454           2  36590498 2021-07-14 05:06:00.226   \n",
       "...            ...         ...       ...                     ...   \n",
       "23819     58887978           3  17860326 2021-08-24 05:54:07.800   \n",
       "92336     58927856           3  26274430 2021-08-26 05:37:35.590   \n",
       "335446    58927412           3  26274430 2021-08-26 05:38:53.024   \n",
       "51534     58996470           2  18325306 2021-08-29 05:42:32.099   \n",
       "139911    59000650           2  29601284 2021-08-29 06:45:31.174   \n",
       "\n",
       "                     exited_on         ht  month                uid  \\\n",
       "101685 2021-07-10 05:49:01.334  12.766667      7  57689032_34485238   \n",
       "390438 2021-07-10 06:13:46.949  36.733333      7  57689090_34485238   \n",
       "94190  2021-07-10 06:17:55.432  19.016667      7  57690196_34485238   \n",
       "342704 2021-07-10 06:26:39.371  23.933333      7  57690408_34485238   \n",
       "132177 2021-07-14 05:25:00.300  19.000000      7  57820454_36590498   \n",
       "...                        ...        ...    ...                ...   \n",
       "23819  2021-08-24 06:12:00.350  17.866667      8  58887978_17860326   \n",
       "92336  2021-08-26 05:53:00.504  15.400000      8  58927856_26274430   \n",
       "335446 2021-08-26 05:50:37.487  11.733333      8  58927412_26274430   \n",
       "51534  2021-08-29 06:13:35.051  31.033333      8  58996470_18325306   \n",
       "139911 2021-08-29 06:54:03.780   8.533333      8  59000650_29601284   \n",
       "\n",
       "        parallel_ses_x  parallel_ses_y  \n",
       "101685               0              20  \n",
       "390438               0              20  \n",
       "94190                0              20  \n",
       "342704               0              20  \n",
       "132177               0              20  \n",
       "...                ...             ...  \n",
       "23819                0              20  \n",
       "92336                0              20  \n",
       "335446               0              20  \n",
       "51534                0              20  \n",
       "139911               0              20  \n",
       "\n",
       "[70 rows x 10 columns]"
      ]
     },
     "execution_count": 203,
     "metadata": {},
     "output_type": "execute_result"
    }
   ],
   "source": [
    "d4 = ddd[(ddd['parallel_ses_y']>19)].sort_values('tutor_joined_on')\n",
    "# d4 = d4[['tutor_joined_on', 'exited_on', 'parallel_ses_y']]\n",
    "# with pd.option_context('display.max_rows', None, 'display.max_columns', None):\n",
    "#     print(d4)\n",
    "d4"
   ]
  },
  {
   "cell_type": "code",
   "execution_count": 205,
   "id": "18fb540e",
   "metadata": {},
   "outputs": [],
   "source": [
    "# d4 = ddd[(ddd['tutor_id']==34485238)].sort_values('tutor_joined_on')\n",
    "# d4 = d4[['tutor_joined_on', 'exited_on', 'parallel_ses_y']]\n",
    "# with pd.option_context('display.max_rows', None, 'display.max_columns', None):\n",
    "#     print(d4)"
   ]
  },
  {
   "cell_type": "code",
   "execution_count": null,
   "id": "8362a30e",
   "metadata": {},
   "outputs": [],
   "source": []
  }
 ],
 "metadata": {
  "kernelspec": {
   "display_name": "Python 3",
   "language": "python",
   "name": "python3"
  },
  "language_info": {
   "codemirror_mode": {
    "name": "ipython",
    "version": 3
   },
   "file_extension": ".py",
   "mimetype": "text/x-python",
   "name": "python",
   "nbconvert_exporter": "python",
   "pygments_lexer": "ipython3",
   "version": "3.7.10"
  }
 },
 "nbformat": 4,
 "nbformat_minor": 5
}
